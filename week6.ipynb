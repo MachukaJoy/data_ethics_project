{
 "cells": [
  {
   "cell_type": "code",
   "execution_count": 1,
   "metadata": {},
   "outputs": [
    {
     "name": "stdout",
     "output_type": "stream",
     "text": [
      "Defaulting to user installation because normal site-packages is not writeable\n",
      "Collecting ucimlrepo\n",
      "  Downloading ucimlrepo-0.0.7-py3-none-any.whl.metadata (5.5 kB)\n",
      "Requirement already satisfied: pandas>=1.0.0 in c:\\users\\user\\appdata\\local\\packages\\pythonsoftwarefoundation.python.3.12_qbz5n2kfra8p0\\localcache\\local-packages\\python312\\site-packages (from ucimlrepo) (2.2.3)\n",
      "Requirement already satisfied: certifi>=2020.12.5 in c:\\users\\user\\appdata\\local\\packages\\pythonsoftwarefoundation.python.3.12_qbz5n2kfra8p0\\localcache\\local-packages\\python312\\site-packages (from ucimlrepo) (2024.8.30)\n",
      "Requirement already satisfied: numpy>=1.26.0 in c:\\users\\user\\appdata\\local\\packages\\pythonsoftwarefoundation.python.3.12_qbz5n2kfra8p0\\localcache\\local-packages\\python312\\site-packages (from pandas>=1.0.0->ucimlrepo) (2.1.2)\n",
      "Requirement already satisfied: python-dateutil>=2.8.2 in c:\\users\\user\\appdata\\local\\packages\\pythonsoftwarefoundation.python.3.12_qbz5n2kfra8p0\\localcache\\local-packages\\python312\\site-packages (from pandas>=1.0.0->ucimlrepo) (2.9.0.post0)\n",
      "Requirement already satisfied: pytz>=2020.1 in c:\\users\\user\\appdata\\local\\packages\\pythonsoftwarefoundation.python.3.12_qbz5n2kfra8p0\\localcache\\local-packages\\python312\\site-packages (from pandas>=1.0.0->ucimlrepo) (2024.2)\n",
      "Requirement already satisfied: tzdata>=2022.7 in c:\\users\\user\\appdata\\local\\packages\\pythonsoftwarefoundation.python.3.12_qbz5n2kfra8p0\\localcache\\local-packages\\python312\\site-packages (from pandas>=1.0.0->ucimlrepo) (2024.2)\n",
      "Requirement already satisfied: six>=1.5 in c:\\users\\user\\appdata\\local\\packages\\pythonsoftwarefoundation.python.3.12_qbz5n2kfra8p0\\localcache\\local-packages\\python312\\site-packages (from python-dateutil>=2.8.2->pandas>=1.0.0->ucimlrepo) (1.16.0)\n",
      "Downloading ucimlrepo-0.0.7-py3-none-any.whl (8.0 kB)\n",
      "Installing collected packages: ucimlrepo\n",
      "Successfully installed ucimlrepo-0.0.7\n"
     ]
    }
   ],
   "source": [
    "!pip3 install -U ucimlrepo "
   ]
  },
  {
   "cell_type": "code",
   "execution_count": 5,
   "metadata": {},
   "outputs": [
    {
     "name": "stdout",
     "output_type": "stream",
     "text": [
      "{'uci_id': 2, 'name': 'Adult', 'repository_url': 'https://archive.ics.uci.edu/dataset/2/adult', 'data_url': 'https://archive.ics.uci.edu/static/public/2/data.csv', 'abstract': 'Predict whether annual income of an individual exceeds $50K/yr based on census data. Also known as \"Census Income\" dataset. ', 'area': 'Social Science', 'tasks': ['Classification'], 'characteristics': ['Multivariate'], 'num_instances': 48842, 'num_features': 14, 'feature_types': ['Categorical', 'Integer'], 'demographics': ['Age', 'Income', 'Education Level', 'Other', 'Race', 'Sex'], 'target_col': ['income'], 'index_col': None, 'has_missing_values': 'yes', 'missing_values_symbol': 'NaN', 'year_of_dataset_creation': 1996, 'last_updated': 'Tue Sep 24 2024', 'dataset_doi': '10.24432/C5XW20', 'creators': ['Barry Becker', 'Ronny Kohavi'], 'intro_paper': None, 'additional_info': {'summary': \"Extraction was done by Barry Becker from the 1994 Census database.  A set of reasonably clean records was extracted using the following conditions: ((AAGE>16) && (AGI>100) && (AFNLWGT>1)&& (HRSWK>0))\\n\\nPrediction task is to determine whether a person's income is over $50,000 a year.\\n\", 'purpose': None, 'funded_by': None, 'instances_represent': None, 'recommended_data_splits': None, 'sensitive_data': None, 'preprocessing_description': None, 'variable_info': 'Listing of attributes:\\r\\n\\r\\n>50K, <=50K.\\r\\n\\r\\nage: continuous.\\r\\nworkclass: Private, Self-emp-not-inc, Self-emp-inc, Federal-gov, Local-gov, State-gov, Without-pay, Never-worked.\\r\\nfnlwgt: continuous.\\r\\neducation: Bachelors, Some-college, 11th, HS-grad, Prof-school, Assoc-acdm, Assoc-voc, 9th, 7th-8th, 12th, Masters, 1st-4th, 10th, Doctorate, 5th-6th, Preschool.\\r\\neducation-num: continuous.\\r\\nmarital-status: Married-civ-spouse, Divorced, Never-married, Separated, Widowed, Married-spouse-absent, Married-AF-spouse.\\r\\noccupation: Tech-support, Craft-repair, Other-service, Sales, Exec-managerial, Prof-specialty, Handlers-cleaners, Machine-op-inspct, Adm-clerical, Farming-fishing, Transport-moving, Priv-house-serv, Protective-serv, Armed-Forces.\\r\\nrelationship: Wife, Own-child, Husband, Not-in-family, Other-relative, Unmarried.\\r\\nrace: White, Asian-Pac-Islander, Amer-Indian-Eskimo, Other, Black.\\r\\nsex: Female, Male.\\r\\ncapital-gain: continuous.\\r\\ncapital-loss: continuous.\\r\\nhours-per-week: continuous.\\r\\nnative-country: United-States, Cambodia, England, Puerto-Rico, Canada, Germany, Outlying-US(Guam-USVI-etc), India, Japan, Greece, South, China, Cuba, Iran, Honduras, Philippines, Italy, Poland, Jamaica, Vietnam, Mexico, Portugal, Ireland, France, Dominican-Republic, Laos, Ecuador, Taiwan, Haiti, Columbia, Hungary, Guatemala, Nicaragua, Scotland, Thailand, Yugoslavia, El-Salvador, Trinadad&Tobago, Peru, Hong, Holand-Netherlands.', 'citation': None}}\n",
      "              name     role         type      demographic  \\\n",
      "0              age  Feature      Integer              Age   \n",
      "1        workclass  Feature  Categorical           Income   \n",
      "2           fnlwgt  Feature      Integer             None   \n",
      "3        education  Feature  Categorical  Education Level   \n",
      "4    education-num  Feature      Integer  Education Level   \n",
      "5   marital-status  Feature  Categorical            Other   \n",
      "6       occupation  Feature  Categorical            Other   \n",
      "7     relationship  Feature  Categorical            Other   \n",
      "8             race  Feature  Categorical             Race   \n",
      "9              sex  Feature       Binary              Sex   \n",
      "10    capital-gain  Feature      Integer             None   \n",
      "11    capital-loss  Feature      Integer             None   \n",
      "12  hours-per-week  Feature      Integer             None   \n",
      "13  native-country  Feature  Categorical            Other   \n",
      "14          income   Target       Binary           Income   \n",
      "\n",
      "                                          description units missing_values  \n",
      "0                                                 N/A  None             no  \n",
      "1   Private, Self-emp-not-inc, Self-emp-inc, Feder...  None            yes  \n",
      "2                                                None  None             no  \n",
      "3    Bachelors, Some-college, 11th, HS-grad, Prof-...  None             no  \n",
      "4                                                None  None             no  \n",
      "5   Married-civ-spouse, Divorced, Never-married, S...  None             no  \n",
      "6   Tech-support, Craft-repair, Other-service, Sal...  None            yes  \n",
      "7   Wife, Own-child, Husband, Not-in-family, Other...  None             no  \n",
      "8   White, Asian-Pac-Islander, Amer-Indian-Eskimo,...  None             no  \n",
      "9                                       Female, Male.  None             no  \n",
      "10                                               None  None             no  \n",
      "11                                               None  None             no  \n",
      "12                                               None  None             no  \n",
      "13  United-States, Cambodia, England, Puerto-Rico,...  None            yes  \n",
      "14                                       >50K, <=50K.  None             no  \n"
     ]
    }
   ],
   "source": [
    "from ucimlrepo import fetch_ucirepo \n",
    "  \n",
    "# fetch dataset \n",
    "adult = fetch_ucirepo(id=2) \n",
    "  \n",
    "# data (as pandas dataframes) \n",
    "X = adult.data.features \n",
    "y = adult.data.targets \n",
    "  \n",
    "# metadata \n",
    "print(adult.metadata) \n",
    "  \n",
    "# variable information \n",
    "print(adult.variables) "
   ]
  },
  {
   "cell_type": "code",
   "execution_count": 6,
   "metadata": {},
   "outputs": [
    {
     "name": "stdout",
     "output_type": "stream",
     "text": [
      "None\n"
     ]
    }
   ],
   "source": [
    "print(adult.dtype)"
   ]
  },
  {
   "cell_type": "code",
   "execution_count": 3,
   "metadata": {},
   "outputs": [
    {
     "name": "stdout",
     "output_type": "stream",
     "text": [
      "Dataset downloaded and prepared successfully!\n"
     ]
    }
   ],
   "source": [
    "import urllib.request\n",
    "import zipfile\n",
    "import os\n",
    "import shutil\n",
    "\n",
    "# Step 1: Prepare the Data\n",
    "# Define URL and download path\n",
    "url = \"https://archive.ics.uci.edu/static/public/2/adult.zip\"\n",
    "download_path = \"adult.zip\"\n",
    "\n",
    "# Download the ZIP file\n",
    "urllib.request.urlretrieve(url, download_path)\n",
    "\n",
    "# Extract the ZIP file\n",
    "with zipfile.ZipFile(download_path, \"r\") as zip_ref:\n",
    "    zip_ref.extractall(\"adult\")  # Extract to a folder named 'adult'\n",
    "\n",
    "# Move the contents from the `adult` directory to the current directory\n",
    "extracted_folder = \"adult\"\n",
    "for item in os.listdir(extracted_folder):\n",
    "    source = os.path.join(extracted_folder, item)\n",
    "    destination = os.path.join(\".\", item)\n",
    "    if os.path.isdir(source):\n",
    "        shutil.move(source, destination)\n",
    "    else:\n",
    "        shutil.move(source, destination)\n",
    "\n",
    "# Clean up by removing the extracted folder and downloaded ZIP file\n",
    "shutil.rmtree(extracted_folder)  # Remove the extracted folder\n",
    "os.remove(download_path)  # Remove the downloaded ZIP file\n",
    "\n",
    "print(\"Dataset downloaded and prepared successfully!\")"
   ]
  },
  {
   "cell_type": "code",
   "execution_count": 8,
   "metadata": {},
   "outputs": [
    {
     "name": "stdout",
     "output_type": "stream",
     "text": [
      "<class 'pandas.core.frame.DataFrame'>\n",
      "<class 'pandas.core.frame.DataFrame'>\n"
     ]
    }
   ],
   "source": [
    "print(type(adult.data.features))\n",
    "print(type(adult.data.targets))"
   ]
  },
  {
   "cell_type": "code",
   "execution_count": 10,
   "metadata": {},
   "outputs": [
    {
     "name": "stdout",
     "output_type": "stream",
     "text": [
      "   age         workclass  fnlwgt  education  education-num  \\\n",
      "0   39         State-gov   77516  Bachelors             13   \n",
      "1   50  Self-emp-not-inc   83311  Bachelors             13   \n",
      "2   38           Private  215646    HS-grad              9   \n",
      "3   53           Private  234721       11th              7   \n",
      "4   28           Private  338409  Bachelors             13   \n",
      "\n",
      "       marital-status         occupation   relationship   race     sex  \\\n",
      "0       Never-married       Adm-clerical  Not-in-family  White    Male   \n",
      "1  Married-civ-spouse    Exec-managerial        Husband  White    Male   \n",
      "2            Divorced  Handlers-cleaners  Not-in-family  White    Male   \n",
      "3  Married-civ-spouse  Handlers-cleaners        Husband  Black    Male   \n",
      "4  Married-civ-spouse     Prof-specialty           Wife  Black  Female   \n",
      "\n",
      "   capital-gain  capital-loss  hours-per-week native-country income  \n",
      "0          2174             0              40  United-States  <=50K  \n",
      "1             0             0              13  United-States  <=50K  \n",
      "2             0             0              40  United-States  <=50K  \n",
      "3             0             0              40  United-States  <=50K  \n",
      "4             0             0              40           Cuba  <=50K  \n",
      "<class 'pandas.core.frame.DataFrame'>\n",
      "RangeIndex: 32561 entries, 0 to 32560\n",
      "Data columns (total 15 columns):\n",
      " #   Column          Non-Null Count  Dtype \n",
      "---  ------          --------------  ----- \n",
      " 0   age             32561 non-null  int64 \n",
      " 1   workclass       32561 non-null  object\n",
      " 2   fnlwgt          32561 non-null  int64 \n",
      " 3   education       32561 non-null  object\n",
      " 4   education-num   32561 non-null  int64 \n",
      " 5   marital-status  32561 non-null  object\n",
      " 6   occupation      32561 non-null  object\n",
      " 7   relationship    32561 non-null  object\n",
      " 8   race            32561 non-null  object\n",
      " 9   sex             32561 non-null  object\n",
      " 10  capital-gain    32561 non-null  int64 \n",
      " 11  capital-loss    32561 non-null  int64 \n",
      " 12  hours-per-week  32561 non-null  int64 \n",
      " 13  native-country  32561 non-null  object\n",
      " 14  income          32561 non-null  object\n",
      "dtypes: int64(6), object(9)\n",
      "memory usage: 3.7+ MB\n",
      "None\n"
     ]
    }
   ],
   "source": [
    "import pandas as pd\n",
    "\n",
    "# Define column names (as described in UCI documentation)\n",
    "columns = [\n",
    "    \"age\", \"workclass\", \"fnlwgt\", \"education\", \"education-num\",\n",
    "    \"marital-status\", \"occupation\", \"relationship\", \"race\", \"sex\",\n",
    "    \"capital-gain\", \"capital-loss\", \"hours-per-week\", \"native-country\", \"income\"\n",
    "]\n",
    "\n",
    "# Load training data\n",
    "train_path = \"adult.data\"\n",
    "adult_train = pd.read_csv(train_path, header=None, names=columns, na_values=\" ?\", skipinitialspace=True)\n",
    "\n",
    "# Load test data (skip the first row with metadata)\n",
    "test_path = \"adult.test\"\n",
    "adult_test = pd.read_csv(test_path, header=None, names=columns, skiprows=1, na_values=\" ?\", skipinitialspace=True)\n",
    "\n",
    "\n",
    "# Display dataset summary\n",
    "print(adult_train.head())\n",
    "print(adult_train.info())\n"
   ]
  },
  {
   "cell_type": "code",
   "execution_count": 19,
   "metadata": {},
   "outputs": [
    {
     "name": "stdout",
     "output_type": "stream",
     "text": [
      "age               0\n",
      "workclass         0\n",
      "fnlwgt            0\n",
      "education         0\n",
      "education-num     0\n",
      "marital-status    0\n",
      "occupation        0\n",
      "relationship      0\n",
      "race              0\n",
      "sex               0\n",
      "capital-gain      0\n",
      "capital-loss      0\n",
      "hours-per-week    0\n",
      "native-country    0\n",
      "income            0\n",
      "dtype: int64\n",
      "age               0\n",
      "workclass         0\n",
      "fnlwgt            0\n",
      "education         0\n",
      "education-num     0\n",
      "marital-status    0\n",
      "occupation        0\n",
      "relationship      0\n",
      "race              0\n",
      "sex               0\n",
      "capital-gain      0\n",
      "capital-loss      0\n",
      "hours-per-week    0\n",
      "native-country    0\n",
      "income            0\n",
      "dtype: int64\n"
     ]
    }
   ],
   "source": [
    "print(adult_train.isnull().sum())\n",
    "print(adult_test.isnull().sum())"
   ]
  },
  {
   "cell_type": "markdown",
   "metadata": {},
   "source": [
    " Convert income to binary (<=50K -> 0, >50K -> 1)"
   ]
  },
  {
   "cell_type": "code",
   "execution_count": 20,
   "metadata": {},
   "outputs": [],
   "source": [
    "# Encode target variable: Convert income to binary (<=50K -> 0, >50K -> 1)\n",
    "adult_train['income'] = adult_train['income'].apply(lambda x: 1 if x.strip() == \">50K\" else 0)"
   ]
  },
  {
   "cell_type": "code",
   "execution_count": 21,
   "metadata": {},
   "outputs": [],
   "source": [
    "# Split Features and Target\n",
    "X = adult_train.drop(columns=[\"income\"])\n",
    "y = adult_train[\"income\"]"
   ]
  },
  {
   "cell_type": "code",
   "execution_count": 22,
   "metadata": {},
   "outputs": [],
   "source": [
    "# Encode Categorical Variables\n",
    "# Convert categorical columns to dummy/one-hot encoding\n",
    "X = pd.get_dummies(X, drop_first=True)"
   ]
  },
  {
   "cell_type": "code",
   "execution_count": 23,
   "metadata": {},
   "outputs": [
    {
     "name": "stdout",
     "output_type": "stream",
     "text": [
      "<class 'pandas.core.frame.DataFrame'>\n",
      "RangeIndex: 32561 entries, 0 to 32560\n",
      "Data columns (total 100 columns):\n",
      " #   Column                                     Non-Null Count  Dtype\n",
      "---  ------                                     --------------  -----\n",
      " 0   age                                        32561 non-null  int64\n",
      " 1   fnlwgt                                     32561 non-null  int64\n",
      " 2   education-num                              32561 non-null  int64\n",
      " 3   capital-gain                               32561 non-null  int64\n",
      " 4   capital-loss                               32561 non-null  int64\n",
      " 5   hours-per-week                             32561 non-null  int64\n",
      " 6   workclass_Federal-gov                      32561 non-null  bool \n",
      " 7   workclass_Local-gov                        32561 non-null  bool \n",
      " 8   workclass_Never-worked                     32561 non-null  bool \n",
      " 9   workclass_Private                          32561 non-null  bool \n",
      " 10  workclass_Self-emp-inc                     32561 non-null  bool \n",
      " 11  workclass_Self-emp-not-inc                 32561 non-null  bool \n",
      " 12  workclass_State-gov                        32561 non-null  bool \n",
      " 13  workclass_Without-pay                      32561 non-null  bool \n",
      " 14  education_11th                             32561 non-null  bool \n",
      " 15  education_12th                             32561 non-null  bool \n",
      " 16  education_1st-4th                          32561 non-null  bool \n",
      " 17  education_5th-6th                          32561 non-null  bool \n",
      " 18  education_7th-8th                          32561 non-null  bool \n",
      " 19  education_9th                              32561 non-null  bool \n",
      " 20  education_Assoc-acdm                       32561 non-null  bool \n",
      " 21  education_Assoc-voc                        32561 non-null  bool \n",
      " 22  education_Bachelors                        32561 non-null  bool \n",
      " 23  education_Doctorate                        32561 non-null  bool \n",
      " 24  education_HS-grad                          32561 non-null  bool \n",
      " 25  education_Masters                          32561 non-null  bool \n",
      " 26  education_Preschool                        32561 non-null  bool \n",
      " 27  education_Prof-school                      32561 non-null  bool \n",
      " 28  education_Some-college                     32561 non-null  bool \n",
      " 29  marital-status_Married-AF-spouse           32561 non-null  bool \n",
      " 30  marital-status_Married-civ-spouse          32561 non-null  bool \n",
      " 31  marital-status_Married-spouse-absent       32561 non-null  bool \n",
      " 32  marital-status_Never-married               32561 non-null  bool \n",
      " 33  marital-status_Separated                   32561 non-null  bool \n",
      " 34  marital-status_Widowed                     32561 non-null  bool \n",
      " 35  occupation_Adm-clerical                    32561 non-null  bool \n",
      " 36  occupation_Armed-Forces                    32561 non-null  bool \n",
      " 37  occupation_Craft-repair                    32561 non-null  bool \n",
      " 38  occupation_Exec-managerial                 32561 non-null  bool \n",
      " 39  occupation_Farming-fishing                 32561 non-null  bool \n",
      " 40  occupation_Handlers-cleaners               32561 non-null  bool \n",
      " 41  occupation_Machine-op-inspct               32561 non-null  bool \n",
      " 42  occupation_Other-service                   32561 non-null  bool \n",
      " 43  occupation_Priv-house-serv                 32561 non-null  bool \n",
      " 44  occupation_Prof-specialty                  32561 non-null  bool \n",
      " 45  occupation_Protective-serv                 32561 non-null  bool \n",
      " 46  occupation_Sales                           32561 non-null  bool \n",
      " 47  occupation_Tech-support                    32561 non-null  bool \n",
      " 48  occupation_Transport-moving                32561 non-null  bool \n",
      " 49  relationship_Not-in-family                 32561 non-null  bool \n",
      " 50  relationship_Other-relative                32561 non-null  bool \n",
      " 51  relationship_Own-child                     32561 non-null  bool \n",
      " 52  relationship_Unmarried                     32561 non-null  bool \n",
      " 53  relationship_Wife                          32561 non-null  bool \n",
      " 54  race_Asian-Pac-Islander                    32561 non-null  bool \n",
      " 55  race_Black                                 32561 non-null  bool \n",
      " 56  race_Other                                 32561 non-null  bool \n",
      " 57  race_White                                 32561 non-null  bool \n",
      " 58  sex_Male                                   32561 non-null  bool \n",
      " 59  native-country_Cambodia                    32561 non-null  bool \n",
      " 60  native-country_Canada                      32561 non-null  bool \n",
      " 61  native-country_China                       32561 non-null  bool \n",
      " 62  native-country_Columbia                    32561 non-null  bool \n",
      " 63  native-country_Cuba                        32561 non-null  bool \n",
      " 64  native-country_Dominican-Republic          32561 non-null  bool \n",
      " 65  native-country_Ecuador                     32561 non-null  bool \n",
      " 66  native-country_El-Salvador                 32561 non-null  bool \n",
      " 67  native-country_England                     32561 non-null  bool \n",
      " 68  native-country_France                      32561 non-null  bool \n",
      " 69  native-country_Germany                     32561 non-null  bool \n",
      " 70  native-country_Greece                      32561 non-null  bool \n",
      " 71  native-country_Guatemala                   32561 non-null  bool \n",
      " 72  native-country_Haiti                       32561 non-null  bool \n",
      " 73  native-country_Holand-Netherlands          32561 non-null  bool \n",
      " 74  native-country_Honduras                    32561 non-null  bool \n",
      " 75  native-country_Hong                        32561 non-null  bool \n",
      " 76  native-country_Hungary                     32561 non-null  bool \n",
      " 77  native-country_India                       32561 non-null  bool \n",
      " 78  native-country_Iran                        32561 non-null  bool \n",
      " 79  native-country_Ireland                     32561 non-null  bool \n",
      " 80  native-country_Italy                       32561 non-null  bool \n",
      " 81  native-country_Jamaica                     32561 non-null  bool \n",
      " 82  native-country_Japan                       32561 non-null  bool \n",
      " 83  native-country_Laos                        32561 non-null  bool \n",
      " 84  native-country_Mexico                      32561 non-null  bool \n",
      " 85  native-country_Nicaragua                   32561 non-null  bool \n",
      " 86  native-country_Outlying-US(Guam-USVI-etc)  32561 non-null  bool \n",
      " 87  native-country_Peru                        32561 non-null  bool \n",
      " 88  native-country_Philippines                 32561 non-null  bool \n",
      " 89  native-country_Poland                      32561 non-null  bool \n",
      " 90  native-country_Portugal                    32561 non-null  bool \n",
      " 91  native-country_Puerto-Rico                 32561 non-null  bool \n",
      " 92  native-country_Scotland                    32561 non-null  bool \n",
      " 93  native-country_South                       32561 non-null  bool \n",
      " 94  native-country_Taiwan                      32561 non-null  bool \n",
      " 95  native-country_Thailand                    32561 non-null  bool \n",
      " 96  native-country_Trinadad&Tobago             32561 non-null  bool \n",
      " 97  native-country_United-States               32561 non-null  bool \n",
      " 98  native-country_Vietnam                     32561 non-null  bool \n",
      " 99  native-country_Yugoslavia                  32561 non-null  bool \n",
      "dtypes: bool(94), int64(6)\n",
      "memory usage: 4.4 MB\n"
     ]
    }
   ],
   "source": [
    "X.info()"
   ]
  }
 ],
 "metadata": {
  "kernelspec": {
   "display_name": "Python 3",
   "language": "python",
   "name": "python3"
  },
  "language_info": {
   "codemirror_mode": {
    "name": "ipython",
    "version": 3
   },
   "file_extension": ".py",
   "mimetype": "text/x-python",
   "name": "python",
   "nbconvert_exporter": "python",
   "pygments_lexer": "ipython3",
   "version": "3.12.7"
  }
 },
 "nbformat": 4,
 "nbformat_minor": 2
}
